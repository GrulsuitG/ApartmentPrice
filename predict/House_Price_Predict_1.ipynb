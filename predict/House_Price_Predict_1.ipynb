{
 "cells": [
  {
   "cell_type": "code",
   "execution_count": 187,
   "id": "2f2b79d6",
   "metadata": {},
   "outputs": [],
   "source": [
    "import pandas as pd\n",
    "import numpy as np"
   ]
  },
  {
   "cell_type": "code",
   "execution_count": 271,
   "id": "2a3f2c4a",
   "metadata": {},
   "outputs": [],
   "source": [
    "df = pd.read_csv(\"./data/final01.csv\", encoding= 'utf-8-sig', thousands=',')"
   ]
  },
  {
   "cell_type": "code",
   "execution_count": null,
   "id": "4e82a7c2",
   "metadata": {},
   "outputs": [],
   "source": []
  },
  {
   "cell_type": "code",
   "execution_count": 189,
   "id": "72819472",
   "metadata": {},
   "outputs": [],
   "source": [
    "# donli, danjiname, doro 삭제 "
   ]
  },
  {
   "cell_type": "code",
   "execution_count": 190,
   "id": "9c3f6aa3",
   "metadata": {},
   "outputs": [],
   "source": [
    "# df_ipji = df[['areadaprice', 'market', 'school', 'station', 'bank', 'cafe', 'hospital']]\n",
    "# df_ipji"
   ]
  },
  {
   "cell_type": "code",
   "execution_count": 191,
   "id": "9180cb94",
   "metadata": {},
   "outputs": [],
   "source": [
    "df = df.drop(['nambang','danjiname', 'donli', 'giha', 'gisa', 'gukag', 'clean', 'guard', 'water', 'amenitiesCnt', 'sedesu', 'food', 'sigog', 'siheg', 'gucha','cctv','ellbe', 'eill'], axis=1)"
   ]
  },
  {
   "cell_type": "code",
   "execution_count": 192,
   "id": "e23ad8ea",
   "metadata": {},
   "outputs": [],
   "source": [
    "df = df.drop(['amenities'],axis=1)"
   ]
  },
  {
   "cell_type": "code",
   "execution_count": 193,
   "id": "39ee49f6",
   "metadata": {},
   "outputs": [],
   "source": [
    "df = df.drop(['danjicode'], axis=1)"
   ]
  },
  {
   "cell_type": "code",
   "execution_count": 194,
   "id": "e3e9e833",
   "metadata": {
    "scrolled": true
   },
   "outputs": [
    {
     "data": {
      "text/html": [
       "<div>\n",
       "<style scoped>\n",
       "    .dataframe tbody tr th:only-of-type {\n",
       "        vertical-align: middle;\n",
       "    }\n",
       "\n",
       "    .dataframe tbody tr th {\n",
       "        vertical-align: top;\n",
       "    }\n",
       "\n",
       "    .dataframe thead th {\n",
       "        text-align: right;\n",
       "    }\n",
       "</style>\n",
       "<table border=\"1\" class=\"dataframe\">\n",
       "  <thead>\n",
       "    <tr style=\"text-align: right;\">\n",
       "      <th></th>\n",
       "      <th>danjigubn</th>\n",
       "      <th>doro</th>\n",
       "      <th>areadaprice</th>\n",
       "      <th>market</th>\n",
       "      <th>school</th>\n",
       "      <th>station</th>\n",
       "      <th>bank</th>\n",
       "      <th>cafe</th>\n",
       "      <th>hospital</th>\n",
       "    </tr>\n",
       "  </thead>\n",
       "  <tbody>\n",
       "    <tr>\n",
       "      <th>0</th>\n",
       "      <td>주상복합</td>\n",
       "      <td>서울특별시 강남구 강남대로 240</td>\n",
       "      <td>4395.0</td>\n",
       "      <td>5</td>\n",
       "      <td>4</td>\n",
       "      <td>2</td>\n",
       "      <td>40</td>\n",
       "      <td>107</td>\n",
       "      <td>91</td>\n",
       "    </tr>\n",
       "    <tr>\n",
       "      <th>1</th>\n",
       "      <td>주상복합</td>\n",
       "      <td>서울특별시 강남구 강남대로 256</td>\n",
       "      <td>3480.0</td>\n",
       "      <td>6</td>\n",
       "      <td>4</td>\n",
       "      <td>2</td>\n",
       "      <td>43</td>\n",
       "      <td>122</td>\n",
       "      <td>98</td>\n",
       "    </tr>\n",
       "    <tr>\n",
       "      <th>2</th>\n",
       "      <td>아파트</td>\n",
       "      <td>서울특별시 강남구 강남대로146길 28</td>\n",
       "      <td>7701.0</td>\n",
       "      <td>5</td>\n",
       "      <td>0</td>\n",
       "      <td>2</td>\n",
       "      <td>48</td>\n",
       "      <td>174</td>\n",
       "      <td>294</td>\n",
       "    </tr>\n",
       "    <tr>\n",
       "      <th>3</th>\n",
       "      <td>아파트</td>\n",
       "      <td>서울특별시 강남구 강남대로84길 33</td>\n",
       "      <td>3141.0</td>\n",
       "      <td>8</td>\n",
       "      <td>0</td>\n",
       "      <td>3</td>\n",
       "      <td>70</td>\n",
       "      <td>317</td>\n",
       "      <td>313</td>\n",
       "    </tr>\n",
       "    <tr>\n",
       "      <th>4</th>\n",
       "      <td>아파트</td>\n",
       "      <td>서울특별시 강남구 개포로 264</td>\n",
       "      <td>10629.0</td>\n",
       "      <td>4</td>\n",
       "      <td>5</td>\n",
       "      <td>3</td>\n",
       "      <td>6</td>\n",
       "      <td>12</td>\n",
       "      <td>11</td>\n",
       "    </tr>\n",
       "    <tr>\n",
       "      <th>...</th>\n",
       "      <td>...</td>\n",
       "      <td>...</td>\n",
       "      <td>...</td>\n",
       "      <td>...</td>\n",
       "      <td>...</td>\n",
       "      <td>...</td>\n",
       "      <td>...</td>\n",
       "      <td>...</td>\n",
       "      <td>...</td>\n",
       "    </tr>\n",
       "    <tr>\n",
       "      <th>2415</th>\n",
       "      <td>아파트</td>\n",
       "      <td>서울특별시 도봉구 시루봉로6길 53</td>\n",
       "      <td>2087.0</td>\n",
       "      <td>5</td>\n",
       "      <td>2</td>\n",
       "      <td>0</td>\n",
       "      <td>16</td>\n",
       "      <td>32</td>\n",
       "      <td>42</td>\n",
       "    </tr>\n",
       "    <tr>\n",
       "      <th>2416</th>\n",
       "      <td>아파트</td>\n",
       "      <td>서울특별시 도봉구 우이천로 304</td>\n",
       "      <td>3164.0</td>\n",
       "      <td>4</td>\n",
       "      <td>1</td>\n",
       "      <td>1</td>\n",
       "      <td>15</td>\n",
       "      <td>58</td>\n",
       "      <td>35</td>\n",
       "    </tr>\n",
       "    <tr>\n",
       "      <th>2417</th>\n",
       "      <td>아파트</td>\n",
       "      <td>서울특별시 도봉구 우이천로20길 6</td>\n",
       "      <td>2095.0</td>\n",
       "      <td>2</td>\n",
       "      <td>2</td>\n",
       "      <td>0</td>\n",
       "      <td>21</td>\n",
       "      <td>48</td>\n",
       "      <td>33</td>\n",
       "    </tr>\n",
       "    <tr>\n",
       "      <th>2418</th>\n",
       "      <td>아파트</td>\n",
       "      <td>서울특별시 도봉구 우이천로30길 28</td>\n",
       "      <td>1752.0</td>\n",
       "      <td>3</td>\n",
       "      <td>3</td>\n",
       "      <td>1</td>\n",
       "      <td>9</td>\n",
       "      <td>25</td>\n",
       "      <td>7</td>\n",
       "    </tr>\n",
       "    <tr>\n",
       "      <th>2419</th>\n",
       "      <td>아파트</td>\n",
       "      <td>서울특별시 도봉구 우이천로38가길 32</td>\n",
       "      <td>1843.0</td>\n",
       "      <td>2</td>\n",
       "      <td>3</td>\n",
       "      <td>1</td>\n",
       "      <td>5</td>\n",
       "      <td>8</td>\n",
       "      <td>4</td>\n",
       "    </tr>\n",
       "  </tbody>\n",
       "</table>\n",
       "<p>2420 rows × 9 columns</p>\n",
       "</div>"
      ],
      "text/plain": [
       "     danjigubn                   doro  areadaprice  market  school  station  \\\n",
       "0         주상복합     서울특별시 강남구 강남대로 240       4395.0       5       4        2   \n",
       "1         주상복합     서울특별시 강남구 강남대로 256       3480.0       6       4        2   \n",
       "2          아파트  서울특별시 강남구 강남대로146길 28       7701.0       5       0        2   \n",
       "3          아파트   서울특별시 강남구 강남대로84길 33       3141.0       8       0        3   \n",
       "4          아파트      서울특별시 강남구 개포로 264      10629.0       4       5        3   \n",
       "...        ...                    ...          ...     ...     ...      ...   \n",
       "2415       아파트    서울특별시 도봉구 시루봉로6길 53       2087.0       5       2        0   \n",
       "2416       아파트     서울특별시 도봉구 우이천로 304       3164.0       4       1        1   \n",
       "2417       아파트    서울특별시 도봉구 우이천로20길 6       2095.0       2       2        0   \n",
       "2418       아파트   서울특별시 도봉구 우이천로30길 28       1752.0       3       3        1   \n",
       "2419       아파트  서울특별시 도봉구 우이천로38가길 32       1843.0       2       3        1   \n",
       "\n",
       "      bank  cafe  hospital  \n",
       "0       40   107        91  \n",
       "1       43   122        98  \n",
       "2       48   174       294  \n",
       "3       70   317       313  \n",
       "4        6    12        11  \n",
       "...    ...   ...       ...  \n",
       "2415    16    32        42  \n",
       "2416    15    58        35  \n",
       "2417    21    48        33  \n",
       "2418     9    25         7  \n",
       "2419     5     8         4  \n",
       "\n",
       "[2420 rows x 9 columns]"
      ]
     },
     "execution_count": 194,
     "metadata": {},
     "output_type": "execute_result"
    }
   ],
   "source": [
    "df"
   ]
  },
  {
   "cell_type": "code",
   "execution_count": 195,
   "id": "be781cb7",
   "metadata": {},
   "outputs": [
    {
     "data": {
      "text/plain": [
       "Index(['danjigubn', 'doro', 'areadaprice', 'market', 'school', 'station',\n",
       "       'bank', 'cafe', 'hospital'],\n",
       "      dtype='object')"
      ]
     },
     "execution_count": 195,
     "metadata": {},
     "output_type": "execute_result"
    }
   ],
   "source": [
    "df.columns"
   ]
  },
  {
   "cell_type": "code",
   "execution_count": 198,
   "id": "18c599dd",
   "metadata": {},
   "outputs": [],
   "source": [
    "gu_df = df['doro'].str.split(' ').str[1]\n",
    "gu_df = pd.DataFrame(gu_df)"
   ]
  },
  {
   "cell_type": "code",
   "execution_count": 199,
   "id": "72006d82",
   "metadata": {},
   "outputs": [],
   "source": [
    "gu_df.columns = [\"gu\"]"
   ]
  },
  {
   "cell_type": "code",
   "execution_count": 200,
   "id": "75f2340d",
   "metadata": {},
   "outputs": [],
   "source": [
    "df = pd.concat([df, gu_df], axis=1)"
   ]
  },
  {
   "cell_type": "code",
   "execution_count": 201,
   "id": "df00920c",
   "metadata": {},
   "outputs": [
    {
     "data": {
      "text/plain": [
       "노원구     176\n",
       "강남구     173\n",
       "강서구     151\n",
       "서초구     150\n",
       "영등포구    143\n",
       "구로구     127\n",
       "송파구     126\n",
       "성북구     117\n",
       "양천구     112\n",
       "은평구     102\n",
       "마포구     101\n",
       "동작구      97\n",
       "강동구      96\n",
       "성동구      93\n",
       "도봉구      93\n",
       "동대문구     84\n",
       "중랑구      84\n",
       "서대문구     74\n",
       "광진구      68\n",
       "용산구      60\n",
       "관악구      60\n",
       "강북구      39\n",
       "금천구      36\n",
       "중구       35\n",
       "종로구      23\n",
       "Name: gu, dtype: int64"
      ]
     },
     "execution_count": 201,
     "metadata": {},
     "output_type": "execute_result"
    }
   ],
   "source": [
    "df['gu'].value_counts()"
   ]
  },
  {
   "cell_type": "code",
   "execution_count": 202,
   "id": "f4cf1de2",
   "metadata": {},
   "outputs": [
    {
     "data": {
      "text/html": [
       "<div>\n",
       "<style scoped>\n",
       "    .dataframe tbody tr th:only-of-type {\n",
       "        vertical-align: middle;\n",
       "    }\n",
       "\n",
       "    .dataframe tbody tr th {\n",
       "        vertical-align: top;\n",
       "    }\n",
       "\n",
       "    .dataframe thead th {\n",
       "        text-align: right;\n",
       "    }\n",
       "</style>\n",
       "<table border=\"1\" class=\"dataframe\">\n",
       "  <thead>\n",
       "    <tr style=\"text-align: right;\">\n",
       "      <th></th>\n",
       "      <th>areadaprice</th>\n",
       "      <th>market</th>\n",
       "      <th>school</th>\n",
       "      <th>station</th>\n",
       "      <th>bank</th>\n",
       "      <th>cafe</th>\n",
       "      <th>hospital</th>\n",
       "    </tr>\n",
       "  </thead>\n",
       "  <tbody>\n",
       "    <tr>\n",
       "      <th>count</th>\n",
       "      <td>2420.000000</td>\n",
       "      <td>2420.000000</td>\n",
       "      <td>2420.000000</td>\n",
       "      <td>2420.000000</td>\n",
       "      <td>2420.000000</td>\n",
       "      <td>2420.000000</td>\n",
       "      <td>2420.000000</td>\n",
       "    </tr>\n",
       "    <tr>\n",
       "      <th>mean</th>\n",
       "      <td>4223.825992</td>\n",
       "      <td>3.754959</td>\n",
       "      <td>2.838017</td>\n",
       "      <td>1.794628</td>\n",
       "      <td>16.143388</td>\n",
       "      <td>49.682645</td>\n",
       "      <td>32.024380</td>\n",
       "    </tr>\n",
       "    <tr>\n",
       "      <th>std</th>\n",
       "      <td>1744.297967</td>\n",
       "      <td>2.118804</td>\n",
       "      <td>1.804237</td>\n",
       "      <td>1.481724</td>\n",
       "      <td>10.423390</td>\n",
       "      <td>43.828965</td>\n",
       "      <td>29.954889</td>\n",
       "    </tr>\n",
       "    <tr>\n",
       "      <th>min</th>\n",
       "      <td>1096.000000</td>\n",
       "      <td>0.000000</td>\n",
       "      <td>0.000000</td>\n",
       "      <td>0.000000</td>\n",
       "      <td>0.000000</td>\n",
       "      <td>0.000000</td>\n",
       "      <td>0.000000</td>\n",
       "    </tr>\n",
       "    <tr>\n",
       "      <th>25%</th>\n",
       "      <td>2985.000000</td>\n",
       "      <td>2.000000</td>\n",
       "      <td>2.000000</td>\n",
       "      <td>1.000000</td>\n",
       "      <td>9.000000</td>\n",
       "      <td>22.000000</td>\n",
       "      <td>13.000000</td>\n",
       "    </tr>\n",
       "    <tr>\n",
       "      <th>50%</th>\n",
       "      <td>3847.200000</td>\n",
       "      <td>3.000000</td>\n",
       "      <td>3.000000</td>\n",
       "      <td>2.000000</td>\n",
       "      <td>14.000000</td>\n",
       "      <td>38.000000</td>\n",
       "      <td>26.000000</td>\n",
       "    </tr>\n",
       "    <tr>\n",
       "      <th>75%</th>\n",
       "      <td>5059.550000</td>\n",
       "      <td>5.000000</td>\n",
       "      <td>4.000000</td>\n",
       "      <td>3.000000</td>\n",
       "      <td>21.000000</td>\n",
       "      <td>62.000000</td>\n",
       "      <td>42.000000</td>\n",
       "    </tr>\n",
       "    <tr>\n",
       "      <th>max</th>\n",
       "      <td>12348.000000</td>\n",
       "      <td>12.000000</td>\n",
       "      <td>10.000000</td>\n",
       "      <td>10.000000</td>\n",
       "      <td>74.000000</td>\n",
       "      <td>554.000000</td>\n",
       "      <td>380.000000</td>\n",
       "    </tr>\n",
       "  </tbody>\n",
       "</table>\n",
       "</div>"
      ],
      "text/plain": [
       "        areadaprice       market       school      station         bank  \\\n",
       "count   2420.000000  2420.000000  2420.000000  2420.000000  2420.000000   \n",
       "mean    4223.825992     3.754959     2.838017     1.794628    16.143388   \n",
       "std     1744.297967     2.118804     1.804237     1.481724    10.423390   \n",
       "min     1096.000000     0.000000     0.000000     0.000000     0.000000   \n",
       "25%     2985.000000     2.000000     2.000000     1.000000     9.000000   \n",
       "50%     3847.200000     3.000000     3.000000     2.000000    14.000000   \n",
       "75%     5059.550000     5.000000     4.000000     3.000000    21.000000   \n",
       "max    12348.000000    12.000000    10.000000    10.000000    74.000000   \n",
       "\n",
       "              cafe     hospital  \n",
       "count  2420.000000  2420.000000  \n",
       "mean     49.682645    32.024380  \n",
       "std      43.828965    29.954889  \n",
       "min       0.000000     0.000000  \n",
       "25%      22.000000    13.000000  \n",
       "50%      38.000000    26.000000  \n",
       "75%      62.000000    42.000000  \n",
       "max     554.000000   380.000000  "
      ]
     },
     "execution_count": 202,
     "metadata": {},
     "output_type": "execute_result"
    }
   ],
   "source": [
    "df.describe()"
   ]
  },
  {
   "cell_type": "code",
   "execution_count": 134,
   "id": "b8cba2e6",
   "metadata": {},
   "outputs": [
    {
     "data": {
      "text/plain": [
       "danjigubn      51\n",
       "areadaprice     0\n",
       "market          0\n",
       "school          0\n",
       "station         0\n",
       "bank            0\n",
       "cafe            0\n",
       "hospital        0\n",
       "dtype: int64"
      ]
     },
     "execution_count": 134,
     "metadata": {},
     "output_type": "execute_result"
    }
   ],
   "source": [
    "df.isnull().sum()"
   ]
  },
  {
   "cell_type": "code",
   "execution_count": 135,
   "id": "0b20a3be",
   "metadata": {},
   "outputs": [],
   "source": [
    "# df = df.dropna(subset=['ellbe', 'gisa', 'giha'])"
   ]
  },
  {
   "cell_type": "code",
   "execution_count": 203,
   "id": "e4c0003e",
   "metadata": {},
   "outputs": [],
   "source": [
    "#df = df.dropna(thresh=20)"
   ]
  },
  {
   "cell_type": "code",
   "execution_count": 204,
   "id": "cec60f9c",
   "metadata": {},
   "outputs": [],
   "source": [
    "# 나중에 수치데이터로 바꿔줘야 할듯"
   ]
  },
  {
   "cell_type": "code",
   "execution_count": 210,
   "id": "ab5f5005",
   "metadata": {},
   "outputs": [],
   "source": [
    "df.loc[:,['danjigubn']] = df.loc[:,['danjigubn']].fillna('아파트')"
   ]
  },
  {
   "cell_type": "code",
   "execution_count": 211,
   "id": "4beedada",
   "metadata": {},
   "outputs": [
    {
     "data": {
      "text/plain": [
       "danjigubn      0\n",
       "doro           0\n",
       "areadaprice    0\n",
       "market         0\n",
       "school         0\n",
       "station        0\n",
       "bank           0\n",
       "cafe           0\n",
       "hospital       0\n",
       "gu             0\n",
       "dtype: int64"
      ]
     },
     "execution_count": 211,
     "metadata": {},
     "output_type": "execute_result"
    }
   ],
   "source": [
    "df.isnull().sum()"
   ]
  },
  {
   "cell_type": "code",
   "execution_count": 212,
   "id": "da1bac9c",
   "metadata": {},
   "outputs": [
    {
     "data": {
      "text/plain": [
       "danjigubn      2420\n",
       "doro           2420\n",
       "areadaprice    2420\n",
       "market         2420\n",
       "school         2420\n",
       "station        2420\n",
       "bank           2420\n",
       "cafe           2420\n",
       "hospital       2420\n",
       "gu             2420\n",
       "dtype: int64"
      ]
     },
     "execution_count": 212,
     "metadata": {},
     "output_type": "execute_result"
    }
   ],
   "source": [
    "df.count()"
   ]
  },
  {
   "cell_type": "code",
   "execution_count": 213,
   "id": "8b190244",
   "metadata": {},
   "outputs": [],
   "source": [
    "#df['sigog'] = df['sigog'].str.replace('주','')"
   ]
  },
  {
   "cell_type": "code",
   "execution_count": 214,
   "id": "1585c38d",
   "metadata": {},
   "outputs": [],
   "source": [
    "#df[\"sigog\"] = df[\"sigog\"].str.replace(pat=r'[^\\w]', repl=r'', regex=True)"
   ]
  },
  {
   "cell_type": "code",
   "execution_count": 215,
   "id": "a94305dd",
   "metadata": {},
   "outputs": [],
   "source": [
    "# df = df.dropna()\n",
    "# df.count()"
   ]
  },
  {
   "cell_type": "code",
   "execution_count": 216,
   "id": "f77b6ba0",
   "metadata": {},
   "outputs": [],
   "source": [
    "# df['sigog'].value_counts()[:50]"
   ]
  },
  {
   "cell_type": "code",
   "execution_count": 217,
   "id": "4fc6a7eb",
   "metadata": {},
   "outputs": [],
   "source": [
    "# df.loc[~((df['sigog'] == '현대건설') | (df['sigog'] == '삼성물산') | (df['sigog']=='현대산업개발') | (df['sigog'] == '대우건설')), 'sigog'] = \"other\""
   ]
  },
  {
   "cell_type": "code",
   "execution_count": 218,
   "id": "9cad8f8d",
   "metadata": {},
   "outputs": [],
   "source": [
    "# df.isnull().sum()"
   ]
  },
  {
   "cell_type": "code",
   "execution_count": 219,
   "id": "8d0e1efa",
   "metadata": {},
   "outputs": [],
   "source": [
    "# df['sigog'].value_counts()"
   ]
  },
  {
   "cell_type": "code",
   "execution_count": 223,
   "id": "d2905378",
   "metadata": {},
   "outputs": [],
   "source": [
    "df = df.drop(['doro'],axis=1)"
   ]
  },
  {
   "cell_type": "code",
   "execution_count": 224,
   "id": "8f13d52c",
   "metadata": {},
   "outputs": [
    {
     "name": "stdout",
     "output_type": "stream",
     "text": [
      "Index(['danjigubn', 'gu'], dtype='object')\n"
     ]
    }
   ],
   "source": [
    "categories = df.columns[df.dtypes==\"object\"]\n",
    "print(categories)"
   ]
  },
  {
   "cell_type": "code",
   "execution_count": 225,
   "id": "0b466869",
   "metadata": {},
   "outputs": [],
   "source": [
    "from sklearn.preprocessing import LabelEncoder"
   ]
  },
  {
   "cell_type": "code",
   "execution_count": 226,
   "id": "d4b13781",
   "metadata": {},
   "outputs": [
    {
     "name": "stdout",
     "output_type": "stream",
     "text": [
      "danjigubn\n",
      "gu\n"
     ]
    }
   ],
   "source": [
    "for cat in categories:\n",
    "    le = LabelEncoder()\n",
    "    print(cat)\n",
    "    if df[cat].dtypes == \"object\":\n",
    "        le = le.fit(df[cat])\n",
    "        df[cat] = le.transform(df[cat])"
   ]
  },
  {
   "cell_type": "code",
   "execution_count": 227,
   "id": "4d42e5db",
   "metadata": {},
   "outputs": [
    {
     "data": {
      "text/plain": [
       "danjigubn        int32\n",
       "areadaprice    float64\n",
       "market           int64\n",
       "school           int64\n",
       "station          int64\n",
       "bank             int64\n",
       "cafe             int64\n",
       "hospital         int64\n",
       "gu               int32\n",
       "dtype: object"
      ]
     },
     "execution_count": 227,
     "metadata": {},
     "output_type": "execute_result"
    }
   ],
   "source": [
    "df.dtypes"
   ]
  },
  {
   "cell_type": "code",
   "execution_count": 228,
   "id": "1392c3be",
   "metadata": {},
   "outputs": [],
   "source": [
    "df_corr = df.corr()"
   ]
  },
  {
   "cell_type": "code",
   "execution_count": 229,
   "id": "700cd602",
   "metadata": {},
   "outputs": [
    {
     "data": {
      "text/html": [
       "<div>\n",
       "<style scoped>\n",
       "    .dataframe tbody tr th:only-of-type {\n",
       "        vertical-align: middle;\n",
       "    }\n",
       "\n",
       "    .dataframe tbody tr th {\n",
       "        vertical-align: top;\n",
       "    }\n",
       "\n",
       "    .dataframe thead th {\n",
       "        text-align: right;\n",
       "    }\n",
       "</style>\n",
       "<table border=\"1\" class=\"dataframe\">\n",
       "  <thead>\n",
       "    <tr style=\"text-align: right;\">\n",
       "      <th></th>\n",
       "      <th>danjigubn</th>\n",
       "      <th>areadaprice</th>\n",
       "      <th>market</th>\n",
       "      <th>school</th>\n",
       "      <th>station</th>\n",
       "      <th>bank</th>\n",
       "      <th>cafe</th>\n",
       "      <th>hospital</th>\n",
       "      <th>gu</th>\n",
       "    </tr>\n",
       "  </thead>\n",
       "  <tbody>\n",
       "    <tr>\n",
       "      <th>danjigubn</th>\n",
       "      <td>1.000000</td>\n",
       "      <td>-0.041059</td>\n",
       "      <td>0.072030</td>\n",
       "      <td>-0.065972</td>\n",
       "      <td>0.154682</td>\n",
       "      <td>0.324430</td>\n",
       "      <td>0.264681</td>\n",
       "      <td>0.180970</td>\n",
       "      <td>0.046627</td>\n",
       "    </tr>\n",
       "    <tr>\n",
       "      <th>areadaprice</th>\n",
       "      <td>-0.041059</td>\n",
       "      <td>1.000000</td>\n",
       "      <td>0.247601</td>\n",
       "      <td>-0.001195</td>\n",
       "      <td>0.251017</td>\n",
       "      <td>0.111967</td>\n",
       "      <td>0.125650</td>\n",
       "      <td>0.203746</td>\n",
       "      <td>-0.073293</td>\n",
       "    </tr>\n",
       "    <tr>\n",
       "      <th>market</th>\n",
       "      <td>0.072030</td>\n",
       "      <td>0.247601</td>\n",
       "      <td>1.000000</td>\n",
       "      <td>0.122298</td>\n",
       "      <td>0.185823</td>\n",
       "      <td>0.287175</td>\n",
       "      <td>0.218134</td>\n",
       "      <td>0.309903</td>\n",
       "      <td>-0.069947</td>\n",
       "    </tr>\n",
       "    <tr>\n",
       "      <th>school</th>\n",
       "      <td>-0.065972</td>\n",
       "      <td>-0.001195</td>\n",
       "      <td>0.122298</td>\n",
       "      <td>1.000000</td>\n",
       "      <td>0.003324</td>\n",
       "      <td>-0.096869</td>\n",
       "      <td>-0.136507</td>\n",
       "      <td>-0.067414</td>\n",
       "      <td>-0.042933</td>\n",
       "    </tr>\n",
       "    <tr>\n",
       "      <th>station</th>\n",
       "      <td>0.154682</td>\n",
       "      <td>0.251017</td>\n",
       "      <td>0.185823</td>\n",
       "      <td>0.003324</td>\n",
       "      <td>1.000000</td>\n",
       "      <td>0.431185</td>\n",
       "      <td>0.391553</td>\n",
       "      <td>0.268566</td>\n",
       "      <td>0.127559</td>\n",
       "    </tr>\n",
       "    <tr>\n",
       "      <th>bank</th>\n",
       "      <td>0.324430</td>\n",
       "      <td>0.111967</td>\n",
       "      <td>0.287175</td>\n",
       "      <td>-0.096869</td>\n",
       "      <td>0.431185</td>\n",
       "      <td>1.000000</td>\n",
       "      <td>0.716470</td>\n",
       "      <td>0.675156</td>\n",
       "      <td>-0.029732</td>\n",
       "    </tr>\n",
       "    <tr>\n",
       "      <th>cafe</th>\n",
       "      <td>0.264681</td>\n",
       "      <td>0.125650</td>\n",
       "      <td>0.218134</td>\n",
       "      <td>-0.136507</td>\n",
       "      <td>0.391553</td>\n",
       "      <td>0.716470</td>\n",
       "      <td>1.000000</td>\n",
       "      <td>0.619647</td>\n",
       "      <td>-0.022666</td>\n",
       "    </tr>\n",
       "    <tr>\n",
       "      <th>hospital</th>\n",
       "      <td>0.180970</td>\n",
       "      <td>0.203746</td>\n",
       "      <td>0.309903</td>\n",
       "      <td>-0.067414</td>\n",
       "      <td>0.268566</td>\n",
       "      <td>0.675156</td>\n",
       "      <td>0.619647</td>\n",
       "      <td>1.000000</td>\n",
       "      <td>-0.135726</td>\n",
       "    </tr>\n",
       "    <tr>\n",
       "      <th>gu</th>\n",
       "      <td>0.046627</td>\n",
       "      <td>-0.073293</td>\n",
       "      <td>-0.069947</td>\n",
       "      <td>-0.042933</td>\n",
       "      <td>0.127559</td>\n",
       "      <td>-0.029732</td>\n",
       "      <td>-0.022666</td>\n",
       "      <td>-0.135726</td>\n",
       "      <td>1.000000</td>\n",
       "    </tr>\n",
       "  </tbody>\n",
       "</table>\n",
       "</div>"
      ],
      "text/plain": [
       "             danjigubn  areadaprice    market    school   station      bank  \\\n",
       "danjigubn     1.000000    -0.041059  0.072030 -0.065972  0.154682  0.324430   \n",
       "areadaprice  -0.041059     1.000000  0.247601 -0.001195  0.251017  0.111967   \n",
       "market        0.072030     0.247601  1.000000  0.122298  0.185823  0.287175   \n",
       "school       -0.065972    -0.001195  0.122298  1.000000  0.003324 -0.096869   \n",
       "station       0.154682     0.251017  0.185823  0.003324  1.000000  0.431185   \n",
       "bank          0.324430     0.111967  0.287175 -0.096869  0.431185  1.000000   \n",
       "cafe          0.264681     0.125650  0.218134 -0.136507  0.391553  0.716470   \n",
       "hospital      0.180970     0.203746  0.309903 -0.067414  0.268566  0.675156   \n",
       "gu            0.046627    -0.073293 -0.069947 -0.042933  0.127559 -0.029732   \n",
       "\n",
       "                 cafe  hospital        gu  \n",
       "danjigubn    0.264681  0.180970  0.046627  \n",
       "areadaprice  0.125650  0.203746 -0.073293  \n",
       "market       0.218134  0.309903 -0.069947  \n",
       "school      -0.136507 -0.067414 -0.042933  \n",
       "station      0.391553  0.268566  0.127559  \n",
       "bank         0.716470  0.675156 -0.029732  \n",
       "cafe         1.000000  0.619647 -0.022666  \n",
       "hospital     0.619647  1.000000 -0.135726  \n",
       "gu          -0.022666 -0.135726  1.000000  "
      ]
     },
     "execution_count": 229,
     "metadata": {},
     "output_type": "execute_result"
    }
   ],
   "source": [
    "df_corr"
   ]
  },
  {
   "cell_type": "code",
   "execution_count": 230,
   "id": "962551cd",
   "metadata": {},
   "outputs": [],
   "source": [
    "%matplotlib inline\n",
    "import matplotlib.pyplot as plt\n",
    "import seaborn as sns"
   ]
  },
  {
   "cell_type": "code",
   "execution_count": 231,
   "id": "0f0ec8f4",
   "metadata": {},
   "outputs": [
    {
     "data": {
      "text/plain": [
       "<matplotlib.axes._subplots.AxesSubplot at 0x1bd970176a0>"
      ]
     },
     "execution_count": 231,
     "metadata": {},
     "output_type": "execute_result"
    },
    {
     "data": {
      "image/png": "[encoded data removed]",
      "text/plain": [
       "<Figure size 720x720 with 2 Axes>"
      ]
     },
     "metadata": {
      "needs_background": "light"
     },
     "output_type": "display_data"
    }
   ],
   "source": [
    "plt.figure(figsize=(10,10))\n",
    "sns.heatmap(df_corr, vmax=1, vmin=-1, center=0, annot=True)"
   ]
  },
  {
   "cell_type": "code",
   "execution_count": 232,
   "id": "87cb58cc",
   "metadata": {},
   "outputs": [],
   "source": [
    "train_df_le = df[~df['areadaprice'].isnull()]\n",
    "test_df_le = df[df['areadaprice'].isnull()]"
   ]
  },
  {
   "cell_type": "code",
   "execution_count": 233,
   "id": "4d47044b",
   "metadata": {},
   "outputs": [],
   "source": [
    "import lightgbm as lgb"
   ]
  },
  {
   "cell_type": "code",
   "execution_count": 234,
   "id": "95921a0b",
   "metadata": {},
   "outputs": [],
   "source": [
    "from sklearn.model_selection import KFold\n",
    "folds = 3\n",
    "kf = KFold(n_splits = folds)"
   ]
  },
  {
   "cell_type": "code",
   "execution_count": 235,
   "id": "7cecd1df",
   "metadata": {},
   "outputs": [],
   "source": [
    "lgbm_params = {\n",
    "    \"objective\":\"regression\",\n",
    "    \"random_seed\":1234\n",
    "}"
   ]
  },
  {
   "cell_type": "code",
   "execution_count": 236,
   "id": "78cd41cf",
   "metadata": {},
   "outputs": [],
   "source": [
    "train_X = train_df_le.drop(['areadaprice'], axis=1)\n",
    "train_Y = train_df_le['areadaprice']"
   ]
  },
  {
   "cell_type": "code",
   "execution_count": 237,
   "id": "74a07c24",
   "metadata": {},
   "outputs": [],
   "source": [
    "from sklearn.metrics import mean_squared_error\n"
   ]
  },
  {
   "cell_type": "code",
   "execution_count": 238,
   "id": "4f621e0b",
   "metadata": {},
   "outputs": [
    {
     "data": {
      "text/plain": [
       "danjigubn        int32\n",
       "areadaprice    float64\n",
       "market           int64\n",
       "school           int64\n",
       "station          int64\n",
       "bank             int64\n",
       "cafe             int64\n",
       "hospital         int64\n",
       "gu               int32\n",
       "dtype: object"
      ]
     },
     "execution_count": 238,
     "metadata": {},
     "output_type": "execute_result"
    }
   ],
   "source": [
    "df.dtypes"
   ]
  },
  {
   "cell_type": "code",
   "execution_count": 239,
   "id": "a89cf810",
   "metadata": {},
   "outputs": [
    {
     "name": "stdout",
     "output_type": "stream",
     "text": [
      "[LightGBM] [Warning] Auto-choosing col-wise multi-threading, the overhead of testing was 0.000106 seconds.\n",
      "You can set `force_col_wise=true` to remove the overhead.\n",
      "[LightGBM] [Info] Total Bins 331\n",
      "[LightGBM] [Info] Number of data points in the train set: 1613, number of used features: 8\n",
      "[LightGBM] [Info] Start training from score 4109.564352\n",
      "Training until validation scores don't improve for 20 rounds\n",
      "[10]\tvalid_0's l2: 4.66617e+06\n",
      "[20]\tvalid_0's l2: 5.11328e+06\n",
      "Early stopping, best iteration is:\n",
      "[1]\tvalid_0's l2: 4.08506e+06\n",
      "0.4093719700358924\n",
      "[LightGBM] [Warning] Auto-choosing col-wise multi-threading, the overhead of testing was 0.000106 seconds.\n",
      "You can set `force_col_wise=true` to remove the overhead.\n",
      "[LightGBM] [Info] Total Bins 363\n",
      "[LightGBM] [Info] Number of data points in the train set: 1613, number of used features: 8\n",
      "[LightGBM] [Info] Start training from score 4275.589584\n",
      "Training until validation scores don't improve for 20 rounds\n",
      "[10]\tvalid_0's l2: 1.50349e+06\n",
      "[20]\tvalid_0's l2: 1.2901e+06\n",
      "[30]\tvalid_0's l2: 1.22659e+06\n",
      "[40]\tvalid_0's l2: 1.23961e+06\n",
      "[50]\tvalid_0's l2: 1.24591e+06\n",
      "Early stopping, best iteration is:\n",
      "[30]\tvalid_0's l2: 1.22659e+06\n",
      "0.25706996553670164\n",
      "[LightGBM] [Warning] Auto-choosing col-wise multi-threading, the overhead of testing was 0.000086 seconds.\n",
      "You can set `force_col_wise=true` to remove the overhead.\n",
      "[LightGBM] [Info] Total Bins 360\n",
      "[LightGBM] [Info] Number of data points in the train set: 1614, number of used features: 8\n",
      "[LightGBM] [Info] Start training from score 4286.285318\n",
      "Training until validation scores don't improve for 20 rounds\n",
      "[10]\tvalid_0's l2: 1.57343e+06\n",
      "[20]\tvalid_0's l2: 1.41289e+06\n",
      "[30]\tvalid_0's l2: 1.37966e+06\n",
      "[40]\tvalid_0's l2: 1.38741e+06\n",
      "[50]\tvalid_0's l2: 1.39538e+06\n",
      "Early stopping, best iteration is:\n",
      "[31]\tvalid_0's l2: 1.37852e+06\n",
      "0.2711387720177072\n"
     ]
    }
   ],
   "source": [
    "models = []\n",
    "rmses = []\n",
    "oof = np.zeros(len(train_X))\n",
    "\n",
    "for train_index, val_index in kf.split(train_X):\n",
    "    X_train = train_X.iloc[train_index]\n",
    "    X_valid = train_X.iloc[val_index]\n",
    "    y_train = train_Y.iloc[train_index]\n",
    "    y_valid = train_Y.iloc[val_index]\n",
    "    \n",
    "    lgb_train = lgb.Dataset(X_train, y_train)\n",
    "    lgb_eval = lgb.Dataset(X_valid, y_valid, reference=lgb_train)\n",
    "    \n",
    "    model_lgb = lgb.train(lgbm_params,\n",
    "                         lgb_train,\n",
    "                          valid_sets = lgb_eval,\n",
    "                         num_boost_round=100,\n",
    "                         early_stopping_rounds=20,\n",
    "                         verbose_eval = 10)\n",
    "    \n",
    "    y_pred = model_lgb.predict(X_valid, num_iteration=model_lgb.best_iteration)\n",
    "    tmp_rmse = np.sqrt(mean_squared_error(np.log(y_valid), np.log(y_pred)))\n",
    "    print(tmp_rmse)\n",
    "    \n",
    "    models.append(model_lgb)\n",
    "    rmses.append(tmp_rmse)\n",
    "    oof[val_index] = y_pred"
   ]
  },
  {
   "cell_type": "code",
   "execution_count": 240,
   "id": "39440537",
   "metadata": {},
   "outputs": [
    {
     "data": {
      "image/png": "[encoded data removed]",
      "text/plain": [
       "<Figure size 432x288 with 1 Axes>"
      ]
     },
     "metadata": {
      "needs_background": "light"
     },
     "output_type": "display_data"
    },
    {
     "data": {
      "image/png": "[encoded data removed]",
      "text/plain": [
       "<Figure size 432x288 with 1 Axes>"
      ]
     },
     "metadata": {
      "needs_background": "light"
     },
     "output_type": "display_data"
    },
    {
     "data": {
      "image/png": "[encoded data removed]",
      "text/plain": [
       "<Figure size 432x288 with 1 Axes>"
      ]
     },
     "metadata": {
      "needs_background": "light"
     },
     "output_type": "display_data"
    }
   ],
   "source": [
    "for model in models:\n",
    "    lgb.plot_importance(model, importance_type='gain', max_num_features=3)"
   ]
  },
  {
   "cell_type": "code",
   "execution_count": 241,
   "id": "a3fc74b0",
   "metadata": {},
   "outputs": [],
   "source": [
    "actual_pred_df = pd.DataFrame({\n",
    "    \"actual\": train_Y,\n",
    "    \"pred\": oof\n",
    "})"
   ]
  },
  {
   "cell_type": "code",
   "execution_count": 242,
   "id": "11703836",
   "metadata": {},
   "outputs": [
    {
     "data": {
      "text/plain": [
       "<matplotlib.axes._subplots.AxesSubplot at 0x1bd93059850>"
      ]
     },
     "execution_count": 242,
     "metadata": {},
     "output_type": "execute_result"
    },
    {
     "data": {
      "image/png": "[encoded data removed]",
      "text/plain": [
       "<Figure size 864x360 with 1 Axes>"
      ]
     },
     "metadata": {
      "needs_background": "light"
     },
     "output_type": "display_data"
    }
   ],
   "source": [
    "import matplotlib as plt\n",
    "\n",
    "actual_pred_df.plot(figsize=(12,5))"
   ]
  },
  {
   "cell_type": "code",
   "execution_count": 243,
   "id": "e8af4c71",
   "metadata": {},
   "outputs": [
    {
     "data": {
      "text/plain": [
       "count     2420.000000\n",
       "mean      4223.825992\n",
       "std       1744.297967\n",
       "min       1096.000000\n",
       "25%       2985.000000\n",
       "50%       3847.200000\n",
       "75%       5059.550000\n",
       "max      12348.000000\n",
       "Name: areadaprice, dtype: float64"
      ]
     },
     "execution_count": 243,
     "metadata": {},
     "output_type": "execute_result"
    }
   ],
   "source": [
    "df['areadaprice'].describe()"
   ]
  },
  {
   "cell_type": "code",
   "execution_count": 244,
   "id": "228ab7f9",
   "metadata": {},
   "outputs": [
    {
     "data": {
      "text/plain": [
       "<matplotlib.axes._subplots.AxesSubplot at 0x1bd976db550>"
      ]
     },
     "execution_count": 244,
     "metadata": {},
     "output_type": "execute_result"
    },
    {
     "data": {
      "image/png": "[encoded data removed]",
      "text/plain": [
       "<Figure size 432x288 with 1 Axes>"
      ]
     },
     "metadata": {
      "needs_background": "light"
     },
     "output_type": "display_data"
    }
   ],
   "source": [
    "df['areadaprice'].plot.hist(bins=20)"
   ]
  },
  {
   "cell_type": "code",
   "execution_count": 245,
   "id": "da0d5b82",
   "metadata": {},
   "outputs": [],
   "source": [
    "# 포아송 분포\n",
    "\n",
    "# 잘 일어나지 않는 사건이 실제로 일어날 확률의 분포를 나타낼 때 이용하며, 좌우 대칭인 정규분포와 달리 왼쪽으로 치우침"
   ]
  },
  {
   "cell_type": "code",
   "execution_count": 246,
   "id": "24027614",
   "metadata": {},
   "outputs": [],
   "source": [
    "# 목적 변수를 로그화 하기\n",
    "# 일반적으로 머신 러닝이나 통계적인 처리의 대부분은 데이터가 정규 분포임을 상정하고 있다. "
   ]
  },
  {
   "cell_type": "code",
   "execution_count": 247,
   "id": "eaff15f5",
   "metadata": {},
   "outputs": [
    {
     "data": {
      "text/plain": [
       "<matplotlib.axes._subplots.AxesSubplot at 0x1bd97744d00>"
      ]
     },
     "execution_count": 247,
     "metadata": {},
     "output_type": "execute_result"
    },
    {
     "data": {
      "image/png": "[encoded data removed]",
      "text/plain": [
       "<Figure size 432x288 with 1 Axes>"
      ]
     },
     "metadata": {
      "needs_background": "light"
     },
     "output_type": "display_data"
    }
   ],
   "source": [
    "np.log(df['areadaprice']).plot.hist(bins=20)"
   ]
  },
  {
   "cell_type": "code",
   "execution_count": 248,
   "id": "b6dc6a2d",
   "metadata": {},
   "outputs": [],
   "source": [
    "pd.options.mode.chained_assignment = None\n",
    "train_df_le['areadaprice_log'] = np.log(train_df_le['areadaprice'])"
   ]
  },
  {
   "cell_type": "code",
   "execution_count": 249,
   "id": "f95def3c",
   "metadata": {},
   "outputs": [],
   "source": [
    "train_X = train_df_le.drop(['areadaprice', 'areadaprice_log'], axis=1)\n",
    "train_Y = train_df_le['areadaprice_log']"
   ]
  },
  {
   "cell_type": "code",
   "execution_count": 250,
   "id": "4c27bc4a",
   "metadata": {},
   "outputs": [
    {
     "name": "stdout",
     "output_type": "stream",
     "text": [
      "[LightGBM] [Warning] Auto-choosing col-wise multi-threading, the overhead of testing was 0.000114 seconds.\n",
      "You can set `force_col_wise=true` to remove the overhead.\n",
      "[LightGBM] [Info] Total Bins 331\n",
      "[LightGBM] [Info] Number of data points in the train set: 1613, number of used features: 8\n",
      "[LightGBM] [Info] Start training from score 8.252030\n",
      "Training until validation scores don't improve for 20 rounds\n",
      "[10]\tvalid_0's l2: 0.200025\n",
      "[20]\tvalid_0's l2: 0.222775\n",
      "Early stopping, best iteration is:\n",
      "[1]\tvalid_0's l2: 0.173933\n",
      "0.4170523064249782\n",
      "[LightGBM] [Warning] Auto-choosing col-wise multi-threading, the overhead of testing was 0.000086 seconds.\n",
      "You can set `force_col_wise=true` to remove the overhead.\n",
      "[LightGBM] [Info] Total Bins 363\n",
      "[LightGBM] [Info] Number of data points in the train set: 1613, number of used features: 8\n",
      "[LightGBM] [Info] Start training from score 8.281300\n",
      "Training until validation scores don't improve for 20 rounds\n",
      "[10]\tvalid_0's l2: 0.0795716\n",
      "[20]\tvalid_0's l2: 0.0685073\n",
      "[30]\tvalid_0's l2: 0.0661364\n",
      "[40]\tvalid_0's l2: 0.0656059\n",
      "[50]\tvalid_0's l2: 0.0651476\n",
      "[60]\tvalid_0's l2: 0.0650137\n",
      "[70]\tvalid_0's l2: 0.064922\n",
      "[80]\tvalid_0's l2: 0.0654093\n",
      "Early stopping, best iteration is:\n",
      "[62]\tvalid_0's l2: 0.0647778\n",
      "0.25451480292355544\n",
      "[LightGBM] [Warning] Auto-choosing col-wise multi-threading, the overhead of testing was 0.000087 seconds.\n",
      "You can set `force_col_wise=true` to remove the overhead.\n",
      "[LightGBM] [Info] Total Bins 360\n",
      "[LightGBM] [Info] Number of data points in the train set: 1614, number of used features: 8\n",
      "[LightGBM] [Info] Start training from score 8.283991\n",
      "Training until validation scores don't improve for 20 rounds\n",
      "[10]\tvalid_0's l2: 0.0805385\n",
      "[20]\tvalid_0's l2: 0.0715693\n",
      "[30]\tvalid_0's l2: 0.0704728\n",
      "[40]\tvalid_0's l2: 0.0695671\n",
      "[50]\tvalid_0's l2: 0.0689509\n",
      "[60]\tvalid_0's l2: 0.0692098\n",
      "Early stopping, best iteration is:\n",
      "[48]\tvalid_0's l2: 0.0688122\n",
      "0.2623207652358778\n"
     ]
    }
   ],
   "source": [
    "import warnings\n",
    "warnings.filterwarnings(\"ignore\")\n",
    "\n",
    "models = []\n",
    "rmses = []\n",
    "oof = np.zeros(len(train_X))\n",
    "\n",
    "for train_index, val_index in kf.split(train_X):\n",
    "    X_train = train_X.iloc[train_index]\n",
    "    X_valid = train_X.iloc[val_index]\n",
    "    y_train = train_Y.iloc[train_index]\n",
    "    y_valid = train_Y.iloc[val_index]\n",
    "    \n",
    "    lgb_train = lgb.Dataset(X_train, y_train)\n",
    "    lgb_eval = lgb.Dataset(X_valid, y_valid, reference=lgb_train)\n",
    "    \n",
    "    model_lgb = lgb.train(lgbm_params,\n",
    "                         lgb_train,\n",
    "                          valid_sets = lgb_eval,\n",
    "                         num_boost_round=100,\n",
    "                         early_stopping_rounds=20,\n",
    "                         verbose_eval = 10)\n",
    "    \n",
    "    y_pred = model_lgb.predict(X_valid, num_iteration=model_lgb.best_iteration)\n",
    "    tmp_rmse = np.sqrt(mean_squared_error(y_valid, y_pred))\n",
    "    print(tmp_rmse)\n",
    "    \n",
    "    models.append(model_lgb)\n",
    "    rmses.append(tmp_rmse)\n",
    "    oof[val_index] = y_pred"
   ]
  },
  {
   "cell_type": "code",
   "execution_count": 251,
   "id": "6a21490a",
   "metadata": {},
   "outputs": [
    {
     "data": {
      "image/png": "[encoded data removed]",
      "text/plain": [
       "<Figure size 432x288 with 1 Axes>"
      ]
     },
     "metadata": {
      "needs_background": "light"
     },
     "output_type": "display_data"
    },
    {
     "data": {
      "image/png": "[encoded data removed]",
      "text/plain": [
       "<Figure size 432x288 with 1 Axes>"
      ]
     },
     "metadata": {
      "needs_background": "light"
     },
     "output_type": "display_data"
    },
    {
     "data": {
      "image/png": "[encoded data removed]",
      "text/plain": [
       "<Figure size 432x288 with 1 Axes>"
      ]
     },
     "metadata": {
      "needs_background": "light"
     },
     "output_type": "display_data"
    }
   ],
   "source": [
    "for model in models:\n",
    "    lgb.plot_importance(model, importance_type='gain', max_num_features=5)"
   ]
  },
  {
   "cell_type": "code",
   "execution_count": 252,
   "id": "73d2a818",
   "metadata": {},
   "outputs": [],
   "source": [
    "actual_pred_df = pd.DataFrame({\n",
    "    \"actual\": train_Y,\n",
    "    \"pred\": oof\n",
    "})"
   ]
  },
  {
   "cell_type": "code",
   "execution_count": 253,
   "id": "d2c5e306",
   "metadata": {},
   "outputs": [
    {
     "data": {
      "text/plain": [
       "<matplotlib.axes._subplots.AxesSubplot at 0x1bd9793fa30>"
      ]
     },
     "execution_count": 253,
     "metadata": {},
     "output_type": "execute_result"
    },
    {
     "data": {
      "image/png": "[encoded data removed]",
      "text/plain": [
       "<Figure size 864x360 with 1 Axes>"
      ]
     },
     "metadata": {
      "needs_background": "light"
     },
     "output_type": "display_data"
    }
   ],
   "source": [
    "import matplotlib as plt\n",
    "\n",
    "actual_pred_df.plot(figsize=(12,5))"
   ]
  },
  {
   "cell_type": "code",
   "execution_count": 254,
   "id": "7859d329",
   "metadata": {},
   "outputs": [
    {
     "data": {
      "text/html": [
       "<div>\n",
       "<style scoped>\n",
       "    .dataframe tbody tr th:only-of-type {\n",
       "        vertical-align: middle;\n",
       "    }\n",
       "\n",
       "    .dataframe tbody tr th {\n",
       "        vertical-align: top;\n",
       "    }\n",
       "\n",
       "    .dataframe thead th {\n",
       "        text-align: right;\n",
       "    }\n",
       "</style>\n",
       "<table border=\"1\" class=\"dataframe\">\n",
       "  <thead>\n",
       "    <tr style=\"text-align: right;\">\n",
       "      <th></th>\n",
       "      <th>danjigubn</th>\n",
       "      <th>areadaprice</th>\n",
       "      <th>market</th>\n",
       "      <th>school</th>\n",
       "      <th>station</th>\n",
       "      <th>bank</th>\n",
       "      <th>cafe</th>\n",
       "      <th>hospital</th>\n",
       "      <th>gu</th>\n",
       "    </tr>\n",
       "  </thead>\n",
       "  <tbody>\n",
       "    <tr>\n",
       "      <th>0</th>\n",
       "      <td>4</td>\n",
       "      <td>4395.0</td>\n",
       "      <td>5</td>\n",
       "      <td>4</td>\n",
       "      <td>2</td>\n",
       "      <td>40</td>\n",
       "      <td>107</td>\n",
       "      <td>91</td>\n",
       "      <td>0</td>\n",
       "    </tr>\n",
       "    <tr>\n",
       "      <th>1</th>\n",
       "      <td>4</td>\n",
       "      <td>3480.0</td>\n",
       "      <td>6</td>\n",
       "      <td>4</td>\n",
       "      <td>2</td>\n",
       "      <td>43</td>\n",
       "      <td>122</td>\n",
       "      <td>98</td>\n",
       "      <td>0</td>\n",
       "    </tr>\n",
       "    <tr>\n",
       "      <th>2</th>\n",
       "      <td>2</td>\n",
       "      <td>7701.0</td>\n",
       "      <td>5</td>\n",
       "      <td>0</td>\n",
       "      <td>2</td>\n",
       "      <td>48</td>\n",
       "      <td>174</td>\n",
       "      <td>294</td>\n",
       "      <td>0</td>\n",
       "    </tr>\n",
       "    <tr>\n",
       "      <th>3</th>\n",
       "      <td>2</td>\n",
       "      <td>3141.0</td>\n",
       "      <td>8</td>\n",
       "      <td>0</td>\n",
       "      <td>3</td>\n",
       "      <td>70</td>\n",
       "      <td>317</td>\n",
       "      <td>313</td>\n",
       "      <td>0</td>\n",
       "    </tr>\n",
       "    <tr>\n",
       "      <th>4</th>\n",
       "      <td>2</td>\n",
       "      <td>10629.0</td>\n",
       "      <td>4</td>\n",
       "      <td>5</td>\n",
       "      <td>3</td>\n",
       "      <td>6</td>\n",
       "      <td>12</td>\n",
       "      <td>11</td>\n",
       "      <td>0</td>\n",
       "    </tr>\n",
       "    <tr>\n",
       "      <th>...</th>\n",
       "      <td>...</td>\n",
       "      <td>...</td>\n",
       "      <td>...</td>\n",
       "      <td>...</td>\n",
       "      <td>...</td>\n",
       "      <td>...</td>\n",
       "      <td>...</td>\n",
       "      <td>...</td>\n",
       "      <td>...</td>\n",
       "    </tr>\n",
       "    <tr>\n",
       "      <th>2415</th>\n",
       "      <td>2</td>\n",
       "      <td>2087.0</td>\n",
       "      <td>5</td>\n",
       "      <td>2</td>\n",
       "      <td>0</td>\n",
       "      <td>16</td>\n",
       "      <td>32</td>\n",
       "      <td>42</td>\n",
       "      <td>9</td>\n",
       "    </tr>\n",
       "    <tr>\n",
       "      <th>2416</th>\n",
       "      <td>2</td>\n",
       "      <td>3164.0</td>\n",
       "      <td>4</td>\n",
       "      <td>1</td>\n",
       "      <td>1</td>\n",
       "      <td>15</td>\n",
       "      <td>58</td>\n",
       "      <td>35</td>\n",
       "      <td>9</td>\n",
       "    </tr>\n",
       "    <tr>\n",
       "      <th>2417</th>\n",
       "      <td>2</td>\n",
       "      <td>2095.0</td>\n",
       "      <td>2</td>\n",
       "      <td>2</td>\n",
       "      <td>0</td>\n",
       "      <td>21</td>\n",
       "      <td>48</td>\n",
       "      <td>33</td>\n",
       "      <td>9</td>\n",
       "    </tr>\n",
       "    <tr>\n",
       "      <th>2418</th>\n",
       "      <td>2</td>\n",
       "      <td>1752.0</td>\n",
       "      <td>3</td>\n",
       "      <td>3</td>\n",
       "      <td>1</td>\n",
       "      <td>9</td>\n",
       "      <td>25</td>\n",
       "      <td>7</td>\n",
       "      <td>9</td>\n",
       "    </tr>\n",
       "    <tr>\n",
       "      <th>2419</th>\n",
       "      <td>2</td>\n",
       "      <td>1843.0</td>\n",
       "      <td>2</td>\n",
       "      <td>3</td>\n",
       "      <td>1</td>\n",
       "      <td>5</td>\n",
       "      <td>8</td>\n",
       "      <td>4</td>\n",
       "      <td>9</td>\n",
       "    </tr>\n",
       "  </tbody>\n",
       "</table>\n",
       "<p>2420 rows × 9 columns</p>\n",
       "</div>"
      ],
      "text/plain": [
       "      danjigubn  areadaprice  market  school  station  bank  cafe  hospital  \\\n",
       "0             4       4395.0       5       4        2    40   107        91   \n",
       "1             4       3480.0       6       4        2    43   122        98   \n",
       "2             2       7701.0       5       0        2    48   174       294   \n",
       "3             2       3141.0       8       0        3    70   317       313   \n",
       "4             2      10629.0       4       5        3     6    12        11   \n",
       "...         ...          ...     ...     ...      ...   ...   ...       ...   \n",
       "2415          2       2087.0       5       2        0    16    32        42   \n",
       "2416          2       3164.0       4       1        1    15    58        35   \n",
       "2417          2       2095.0       2       2        0    21    48        33   \n",
       "2418          2       1752.0       3       3        1     9    25         7   \n",
       "2419          2       1843.0       2       3        1     5     8         4   \n",
       "\n",
       "      gu  \n",
       "0      0  \n",
       "1      0  \n",
       "2      0  \n",
       "3      0  \n",
       "4      0  \n",
       "...   ..  \n",
       "2415   9  \n",
       "2416   9  \n",
       "2417   9  \n",
       "2418   9  \n",
       "2419   9  \n",
       "\n",
       "[2420 rows x 9 columns]"
      ]
     },
     "execution_count": 254,
     "metadata": {},
     "output_type": "execute_result"
    }
   ],
   "source": [
    "df_num = df.select_dtypes(include=[np.number])\n",
    "df_num"
   ]
  },
  {
   "cell_type": "code",
   "execution_count": 255,
   "id": "116736a1",
   "metadata": {},
   "outputs": [
    {
     "data": {
      "text/plain": [
       "['areadaprice',\n",
       " 'bank',\n",
       " 'cafe',\n",
       " 'danjigubn',\n",
       " 'gu',\n",
       " 'hospital',\n",
       " 'market',\n",
       " 'school',\n",
       " 'station']"
      ]
     },
     "execution_count": 255,
     "metadata": {},
     "output_type": "execute_result"
    }
   ],
   "source": [
    "num_features = sorted(list(set(df_num)))\n",
    "num_features"
   ]
  },
  {
   "cell_type": "code",
   "execution_count": 256,
   "id": "b2a1a7ed",
   "metadata": {},
   "outputs": [],
   "source": [
    "df_num_rs = df_num[num_features]"
   ]
  },
  {
   "cell_type": "code",
   "execution_count": 257,
   "id": "c6f1ee2a",
   "metadata": {},
   "outputs": [
    {
     "name": "stdout",
     "output_type": "stream",
     "text": [
      "areadaprice 41\n",
      "bank 40\n",
      "cafe 46\n",
      "danjigubn 158\n",
      "gu 0\n",
      "hospital 32\n",
      "market 16\n",
      "school 13\n",
      "station 13\n"
     ]
    }
   ],
   "source": [
    "for col in num_features:\n",
    "    tmp_df = df_num_rs[(df_num_rs[col] > df_num_rs[col].mean() + df_num_rs[col].std() *3) | (df_num_rs[col] < df_num_rs[col].mean() - df_num_rs[col].std() *3)]\n",
    "                       \n",
    "    print(col, len(tmp_df))"
   ]
  },
  {
   "cell_type": "code",
   "execution_count": 258,
   "id": "ad60def2",
   "metadata": {},
   "outputs": [
    {
     "data": {
      "text/plain": [
       "<matplotlib.axes._subplots.AxesSubplot at 0x1bd9895f160>"
      ]
     },
     "execution_count": 258,
     "metadata": {},
     "output_type": "execute_result"
    },
    {
     "data": {
      "image/png": "[encoded data removed]",
      "text/plain": [
       "<Figure size 432x288 with 1 Axes>"
      ]
     },
     "metadata": {
      "needs_background": "light"
     },
     "output_type": "display_data"
    }
   ],
   "source": [
    "df.plot.scatter(x='ame', y='areadaprice')"
   ]
  },
  {
   "cell_type": "code",
   "execution_count": 259,
   "id": "8fee38d8",
   "metadata": {},
   "outputs": [
    {
     "data": {
      "text/html": [
       "<div>\n",
       "<style scoped>\n",
       "    .dataframe tbody tr th:only-of-type {\n",
       "        vertical-align: middle;\n",
       "    }\n",
       "\n",
       "    .dataframe tbody tr th {\n",
       "        vertical-align: top;\n",
       "    }\n",
       "\n",
       "    .dataframe thead th {\n",
       "        text-align: right;\n",
       "    }\n",
       "</style>\n",
       "<table border=\"1\" class=\"dataframe\">\n",
       "  <thead>\n",
       "    <tr style=\"text-align: right;\">\n",
       "      <th></th>\n",
       "      <th>danjigubn</th>\n",
       "      <th>areadaprice</th>\n",
       "      <th>market</th>\n",
       "      <th>school</th>\n",
       "      <th>station</th>\n",
       "      <th>bank</th>\n",
       "      <th>cafe</th>\n",
       "      <th>hospital</th>\n",
       "      <th>gu</th>\n",
       "    </tr>\n",
       "  </thead>\n",
       "  <tbody>\n",
       "    <tr>\n",
       "      <th>4</th>\n",
       "      <td>2</td>\n",
       "      <td>10629.0</td>\n",
       "      <td>4</td>\n",
       "      <td>5</td>\n",
       "      <td>3</td>\n",
       "      <td>6</td>\n",
       "      <td>12</td>\n",
       "      <td>11</td>\n",
       "      <td>0</td>\n",
       "    </tr>\n",
       "    <tr>\n",
       "      <th>11</th>\n",
       "      <td>2</td>\n",
       "      <td>10028.0</td>\n",
       "      <td>4</td>\n",
       "      <td>3</td>\n",
       "      <td>3</td>\n",
       "      <td>11</td>\n",
       "      <td>21</td>\n",
       "      <td>19</td>\n",
       "      <td>0</td>\n",
       "    </tr>\n",
       "    <tr>\n",
       "      <th>39</th>\n",
       "      <td>2</td>\n",
       "      <td>11554.0</td>\n",
       "      <td>7</td>\n",
       "      <td>2</td>\n",
       "      <td>1</td>\n",
       "      <td>17</td>\n",
       "      <td>26</td>\n",
       "      <td>34</td>\n",
       "      <td>0</td>\n",
       "    </tr>\n",
       "    <tr>\n",
       "      <th>44</th>\n",
       "      <td>2</td>\n",
       "      <td>10352.7</td>\n",
       "      <td>6</td>\n",
       "      <td>1</td>\n",
       "      <td>1</td>\n",
       "      <td>31</td>\n",
       "      <td>48</td>\n",
       "      <td>74</td>\n",
       "      <td>0</td>\n",
       "    </tr>\n",
       "    <tr>\n",
       "      <th>65</th>\n",
       "      <td>2</td>\n",
       "      <td>10911.0</td>\n",
       "      <td>5</td>\n",
       "      <td>3</td>\n",
       "      <td>2</td>\n",
       "      <td>20</td>\n",
       "      <td>57</td>\n",
       "      <td>64</td>\n",
       "      <td>0</td>\n",
       "    </tr>\n",
       "    <tr>\n",
       "      <th>66</th>\n",
       "      <td>2</td>\n",
       "      <td>12348.0</td>\n",
       "      <td>5</td>\n",
       "      <td>2</td>\n",
       "      <td>5</td>\n",
       "      <td>13</td>\n",
       "      <td>72</td>\n",
       "      <td>31</td>\n",
       "      <td>0</td>\n",
       "    </tr>\n",
       "    <tr>\n",
       "      <th>68</th>\n",
       "      <td>2</td>\n",
       "      <td>11365.6</td>\n",
       "      <td>7</td>\n",
       "      <td>4</td>\n",
       "      <td>2</td>\n",
       "      <td>8</td>\n",
       "      <td>14</td>\n",
       "      <td>20</td>\n",
       "      <td>0</td>\n",
       "    </tr>\n",
       "    <tr>\n",
       "      <th>69</th>\n",
       "      <td>2</td>\n",
       "      <td>10451.0</td>\n",
       "      <td>11</td>\n",
       "      <td>4</td>\n",
       "      <td>4</td>\n",
       "      <td>23</td>\n",
       "      <td>75</td>\n",
       "      <td>99</td>\n",
       "      <td>0</td>\n",
       "    </tr>\n",
       "    <tr>\n",
       "      <th>76</th>\n",
       "      <td>2</td>\n",
       "      <td>11110.0</td>\n",
       "      <td>12</td>\n",
       "      <td>6</td>\n",
       "      <td>4</td>\n",
       "      <td>22</td>\n",
       "      <td>66</td>\n",
       "      <td>84</td>\n",
       "      <td>0</td>\n",
       "    </tr>\n",
       "    <tr>\n",
       "      <th>79</th>\n",
       "      <td>2</td>\n",
       "      <td>10827.2</td>\n",
       "      <td>2</td>\n",
       "      <td>5</td>\n",
       "      <td>2</td>\n",
       "      <td>6</td>\n",
       "      <td>9</td>\n",
       "      <td>10</td>\n",
       "      <td>0</td>\n",
       "    </tr>\n",
       "    <tr>\n",
       "      <th>84</th>\n",
       "      <td>2</td>\n",
       "      <td>10064.3</td>\n",
       "      <td>9</td>\n",
       "      <td>3</td>\n",
       "      <td>2</td>\n",
       "      <td>28</td>\n",
       "      <td>68</td>\n",
       "      <td>93</td>\n",
       "      <td>0</td>\n",
       "    </tr>\n",
       "    <tr>\n",
       "      <th>85</th>\n",
       "      <td>2</td>\n",
       "      <td>10409.4</td>\n",
       "      <td>7</td>\n",
       "      <td>5</td>\n",
       "      <td>3</td>\n",
       "      <td>27</td>\n",
       "      <td>89</td>\n",
       "      <td>96</td>\n",
       "      <td>0</td>\n",
       "    </tr>\n",
       "    <tr>\n",
       "      <th>103</th>\n",
       "      <td>2</td>\n",
       "      <td>11015.0</td>\n",
       "      <td>5</td>\n",
       "      <td>2</td>\n",
       "      <td>3</td>\n",
       "      <td>34</td>\n",
       "      <td>49</td>\n",
       "      <td>36</td>\n",
       "      <td>0</td>\n",
       "    </tr>\n",
       "    <tr>\n",
       "      <th>139</th>\n",
       "      <td>2</td>\n",
       "      <td>10793.0</td>\n",
       "      <td>1</td>\n",
       "      <td>1</td>\n",
       "      <td>1</td>\n",
       "      <td>17</td>\n",
       "      <td>36</td>\n",
       "      <td>24</td>\n",
       "      <td>0</td>\n",
       "    </tr>\n",
       "    <tr>\n",
       "      <th>797</th>\n",
       "      <td>2</td>\n",
       "      <td>10510.8</td>\n",
       "      <td>8</td>\n",
       "      <td>4</td>\n",
       "      <td>5</td>\n",
       "      <td>19</td>\n",
       "      <td>31</td>\n",
       "      <td>63</td>\n",
       "      <td>14</td>\n",
       "    </tr>\n",
       "    <tr>\n",
       "      <th>801</th>\n",
       "      <td>2</td>\n",
       "      <td>11039.3</td>\n",
       "      <td>3</td>\n",
       "      <td>8</td>\n",
       "      <td>2</td>\n",
       "      <td>14</td>\n",
       "      <td>27</td>\n",
       "      <td>26</td>\n",
       "      <td>14</td>\n",
       "    </tr>\n",
       "    <tr>\n",
       "      <th>815</th>\n",
       "      <td>2</td>\n",
       "      <td>12139.3</td>\n",
       "      <td>8</td>\n",
       "      <td>3</td>\n",
       "      <td>4</td>\n",
       "      <td>23</td>\n",
       "      <td>29</td>\n",
       "      <td>63</td>\n",
       "      <td>14</td>\n",
       "    </tr>\n",
       "    <tr>\n",
       "      <th>1232</th>\n",
       "      <td>2</td>\n",
       "      <td>10539.8</td>\n",
       "      <td>9</td>\n",
       "      <td>3</td>\n",
       "      <td>4</td>\n",
       "      <td>11</td>\n",
       "      <td>27</td>\n",
       "      <td>42</td>\n",
       "      <td>14</td>\n",
       "    </tr>\n",
       "    <tr>\n",
       "      <th>1236</th>\n",
       "      <td>2</td>\n",
       "      <td>10473.8</td>\n",
       "      <td>8</td>\n",
       "      <td>4</td>\n",
       "      <td>6</td>\n",
       "      <td>21</td>\n",
       "      <td>28</td>\n",
       "      <td>45</td>\n",
       "      <td>14</td>\n",
       "    </tr>\n",
       "    <tr>\n",
       "      <th>1648</th>\n",
       "      <td>2</td>\n",
       "      <td>12094.0</td>\n",
       "      <td>3</td>\n",
       "      <td>7</td>\n",
       "      <td>3</td>\n",
       "      <td>17</td>\n",
       "      <td>30</td>\n",
       "      <td>25</td>\n",
       "      <td>14</td>\n",
       "    </tr>\n",
       "    <tr>\n",
       "      <th>2088</th>\n",
       "      <td>2</td>\n",
       "      <td>11966.0</td>\n",
       "      <td>7</td>\n",
       "      <td>1</td>\n",
       "      <td>4</td>\n",
       "      <td>32</td>\n",
       "      <td>74</td>\n",
       "      <td>53</td>\n",
       "      <td>14</td>\n",
       "    </tr>\n",
       "  </tbody>\n",
       "</table>\n",
       "</div>"
      ],
      "text/plain": [
       "      danjigubn  areadaprice  market  school  station  bank  cafe  hospital  \\\n",
       "4             2      10629.0       4       5        3     6    12        11   \n",
       "11            2      10028.0       4       3        3    11    21        19   \n",
       "39            2      11554.0       7       2        1    17    26        34   \n",
       "44            2      10352.7       6       1        1    31    48        74   \n",
       "65            2      10911.0       5       3        2    20    57        64   \n",
       "66            2      12348.0       5       2        5    13    72        31   \n",
       "68            2      11365.6       7       4        2     8    14        20   \n",
       "69            2      10451.0      11       4        4    23    75        99   \n",
       "76            2      11110.0      12       6        4    22    66        84   \n",
       "79            2      10827.2       2       5        2     6     9        10   \n",
       "84            2      10064.3       9       3        2    28    68        93   \n",
       "85            2      10409.4       7       5        3    27    89        96   \n",
       "103           2      11015.0       5       2        3    34    49        36   \n",
       "139           2      10793.0       1       1        1    17    36        24   \n",
       "797           2      10510.8       8       4        5    19    31        63   \n",
       "801           2      11039.3       3       8        2    14    27        26   \n",
       "815           2      12139.3       8       3        4    23    29        63   \n",
       "1232          2      10539.8       9       3        4    11    27        42   \n",
       "1236          2      10473.8       8       4        6    21    28        45   \n",
       "1648          2      12094.0       3       7        3    17    30        25   \n",
       "2088          2      11966.0       7       1        4    32    74        53   \n",
       "\n",
       "      gu  \n",
       "4      0  \n",
       "11     0  \n",
       "39     0  \n",
       "44     0  \n",
       "65     0  \n",
       "66     0  \n",
       "68     0  \n",
       "69     0  \n",
       "76     0  \n",
       "79     0  \n",
       "84     0  \n",
       "85     0  \n",
       "103    0  \n",
       "139    0  \n",
       "797   14  \n",
       "801   14  \n",
       "815   14  \n",
       "1232  14  \n",
       "1236  14  \n",
       "1648  14  \n",
       "2088  14  "
      ]
     },
     "execution_count": 259,
     "metadata": {},
     "output_type": "execute_result"
    }
   ],
   "source": [
    "df[(df['bank'] >5) & (df['areadaprice'] > 10000)]"
   ]
  },
  {
   "cell_type": "code",
   "execution_count": 260,
   "id": "0829493a",
   "metadata": {},
   "outputs": [
    {
     "data": {
      "text/plain": [
       "<matplotlib.axes._subplots.AxesSubplot at 0x1bd989cd730>"
      ]
     },
     "execution_count": 260,
     "metadata": {},
     "output_type": "execute_result"
    },
    {
     "data": {
      "image/png": "[encoded data removed]",
      "text/plain": [
       "<Figure size 432x288 with 1 Axes>"
      ]
     },
     "metadata": {
      "needs_background": "light"
     },
     "output_type": "display_data"
    }
   ],
   "source": [
    "df.plot.scatter(x='station', y='areadaprice')"
   ]
  },
  {
   "cell_type": "code",
   "execution_count": 270,
   "id": "b4feadc6",
   "metadata": {},
   "outputs": [
    {
     "data": {
      "text/html": [
       "<div>\n",
       "<style scoped>\n",
       "    .dataframe tbody tr th:only-of-type {\n",
       "        vertical-align: middle;\n",
       "    }\n",
       "\n",
       "    .dataframe tbody tr th {\n",
       "        vertical-align: top;\n",
       "    }\n",
       "\n",
       "    .dataframe thead th {\n",
       "        text-align: right;\n",
       "    }\n",
       "</style>\n",
       "<table border=\"1\" class=\"dataframe\">\n",
       "  <thead>\n",
       "    <tr style=\"text-align: right;\">\n",
       "      <th></th>\n",
       "      <th>danjigubn</th>\n",
       "      <th>areadaprice</th>\n",
       "      <th>market</th>\n",
       "      <th>school</th>\n",
       "      <th>station</th>\n",
       "      <th>bank</th>\n",
       "      <th>cafe</th>\n",
       "      <th>hospital</th>\n",
       "      <th>gu</th>\n",
       "    </tr>\n",
       "  </thead>\n",
       "  <tbody>\n",
       "    <tr>\n",
       "      <th>87</th>\n",
       "      <td>2</td>\n",
       "      <td>9465.3</td>\n",
       "      <td>1</td>\n",
       "      <td>2</td>\n",
       "      <td>0</td>\n",
       "      <td>7</td>\n",
       "      <td>76</td>\n",
       "      <td>27</td>\n",
       "      <td>0</td>\n",
       "    </tr>\n",
       "    <tr>\n",
       "      <th>1270</th>\n",
       "      <td>2</td>\n",
       "      <td>8862.0</td>\n",
       "      <td>1</td>\n",
       "      <td>1</td>\n",
       "      <td>0</td>\n",
       "      <td>10</td>\n",
       "      <td>59</td>\n",
       "      <td>20</td>\n",
       "      <td>15</td>\n",
       "    </tr>\n",
       "  </tbody>\n",
       "</table>\n",
       "</div>"
      ],
      "text/plain": [
       "      danjigubn  areadaprice  market  school  station  bank  cafe  hospital  \\\n",
       "87            2       9465.3       1       2        0     7    76        27   \n",
       "1270          2       8862.0       1       1        0    10    59        20   \n",
       "\n",
       "      gu  \n",
       "87     0  \n",
       "1270  15  "
      ]
     },
     "execution_count": 270,
     "metadata": {},
     "output_type": "execute_result"
    }
   ],
   "source": [
    "df[(df['station']==0) & (df['areadaprice'] > 8000)]"
   ]
  },
  {
   "cell_type": "code",
   "execution_count": 261,
   "id": "077f4ea8",
   "metadata": {},
   "outputs": [
    {
     "data": {
      "text/plain": [
       "<matplotlib.axes._subplots.AxesSubplot at 0x1bd98a24bb0>"
      ]
     },
     "execution_count": 261,
     "metadata": {},
     "output_type": "execute_result"
    },
    {
     "data": {
      "image/png": "[encoded data removed]",
      "text/plain": [
       "<Figure size 432x288 with 1 Axes>"
      ]
     },
     "metadata": {
      "needs_background": "light"
     },
     "output_type": "display_data"
    }
   ],
   "source": [
    "df.plot.scatter(x='cafe', y='areadaprice')"
   ]
  },
  {
   "cell_type": "code",
   "execution_count": 262,
   "id": "0221ab84",
   "metadata": {},
   "outputs": [
    {
     "data": {
      "text/plain": [
       "<matplotlib.axes._subplots.AxesSubplot at 0x1bd98a76f70>"
      ]
     },
     "execution_count": 262,
     "metadata": {},
     "output_type": "execute_result"
    },
    {
     "data": {
      "image/png": "[encoded data removed]",
      "text/plain": [
       "<Figure size 432x288 with 1 Axes>"
      ]
     },
     "metadata": {
      "needs_background": "light"
     },
     "output_type": "display_data"
    }
   ],
   "source": [
    "df.plot.scatter(x='school', y='areadaprice')"
   ]
  },
  {
   "cell_type": "code",
   "execution_count": 263,
   "id": "a47ecd15",
   "metadata": {},
   "outputs": [
    {
     "data": {
      "text/html": [
       "<div>\n",
       "<style scoped>\n",
       "    .dataframe tbody tr th:only-of-type {\n",
       "        vertical-align: middle;\n",
       "    }\n",
       "\n",
       "    .dataframe tbody tr th {\n",
       "        vertical-align: top;\n",
       "    }\n",
       "\n",
       "    .dataframe thead th {\n",
       "        text-align: right;\n",
       "    }\n",
       "</style>\n",
       "<table border=\"1\" class=\"dataframe\">\n",
       "  <thead>\n",
       "    <tr style=\"text-align: right;\">\n",
       "      <th></th>\n",
       "      <th>danjigubn</th>\n",
       "      <th>areadaprice</th>\n",
       "      <th>market</th>\n",
       "      <th>school</th>\n",
       "      <th>station</th>\n",
       "      <th>bank</th>\n",
       "      <th>cafe</th>\n",
       "      <th>hospital</th>\n",
       "      <th>gu</th>\n",
       "    </tr>\n",
       "  </thead>\n",
       "  <tbody>\n",
       "    <tr>\n",
       "      <th>1433</th>\n",
       "      <td>1</td>\n",
       "      <td>5016.0</td>\n",
       "      <td>1</td>\n",
       "      <td>2</td>\n",
       "      <td>10</td>\n",
       "      <td>39</td>\n",
       "      <td>104</td>\n",
       "      <td>37</td>\n",
       "      <td>23</td>\n",
       "    </tr>\n",
       "  </tbody>\n",
       "</table>\n",
       "</div>"
      ],
      "text/plain": [
       "      danjigubn  areadaprice  market  school  station  bank  cafe  hospital  \\\n",
       "1433          1       5016.0       1       2       10    39   104        37   \n",
       "\n",
       "      gu  \n",
       "1433  23  "
      ]
     },
     "execution_count": 263,
     "metadata": {},
     "output_type": "execute_result"
    }
   ],
   "source": [
    "df[df['station'] > 9]"
   ]
  },
  {
   "cell_type": "code",
   "execution_count": 264,
   "id": "ddeac426",
   "metadata": {},
   "outputs": [
    {
     "data": {
      "text/plain": [
       "<matplotlib.axes._subplots.AxesSubplot at 0x1bd98ac6100>"
      ]
     },
     "execution_count": 264,
     "metadata": {},
     "output_type": "execute_result"
    },
    {
     "data": {
      "image/png": "[encoded data removed]",
      "text/plain": [
       "<Figure size 432x288 with 1 Axes>"
      ]
     },
     "metadata": {
      "needs_background": "light"
     },
     "output_type": "display_data"
    }
   ],
   "source": [
    "df.plot.scatter(x='hospital', y='areadaprice')"
   ]
  },
  {
   "cell_type": "code",
   "execution_count": null,
   "id": "efaaba11",
   "metadata": {},
   "outputs": [],
   "source": [
    "df = df[(df['bank'] > 200) | (df['areadaprice'].isnull())]\n",
    "df = df[(df['school'] > 200) | (df['areadaprice'].isnull())]\n",
    "df = df[(df['bank'] > 200) | (df['areadaprice'].isnull())]\n",
    "df = df[(df['bank'] > 200) | (df['areadaprice'].isnull())]"
   ]
  }
 ],
 "metadata": {
  "kernelspec": {
   "display_name": "Python 3 (ipykernel)",
   "language": "python",
   "name": "python3"
  },
  "language_info": {
   "codemirror_mode": {
    "name": "ipython",
    "version": 3
   },
   "file_extension": ".py",
   "mimetype": "text/x-python",
   "name": "python",
   "nbconvert_exporter": "python",
   "pygments_lexer": "ipython3",
   "version": "3.9.7"
  }
 },
 "nbformat": 4,
 "nbformat_minor": 5
}
